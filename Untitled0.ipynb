{
 "metadata": {
  "name": "",
  "signature": "sha256:a5b55663bd43247250548b57227c9027df1040ed8339065ca1d480d2137f8a5e"
 },
 "nbformat": 3,
 "nbformat_minor": 0,
 "worksheets": [
  {
   "cells": [
    {
     "cell_type": "code",
     "collapsed": false,
     "input": [
      "import pymongo\n",
      "import re\n",
      "from TwitterSearch import *\n",
      "\n",
      "\n",
      "try:\n",
      "    tso = TwitterSearchOrder() # create a TwitterSearchOrder object\n",
      "    tso.set_keywords(['Messi']) # let's define all words we would like to have a look for\n",
      "    tso.set_language('es') # we want to see German tweets only\n",
      "    tso.set_include_entities(False) # and don't give us all those entity information\n",
      "      \n",
      "    # it's about time to create a TwitterSearch object with our secret tokens\n",
      "    ts = TwitterSearch(\n",
      "              consumer_key = 'L1QKedCUnrRlMAtSF0AZw',\n",
      "              consumer_secret = 'ULaNi4igQf2488fhgBNwJfN6kX9vuKkR80Y374Avm8',\n",
      "              access_token = '111056361-uSYLwKwPL6uVSPmzmQWjULLwPb1a2MfF0jAPdw3M',\n",
      "              access_token_secret = 'rALPPgqhil2M395CvZMZrMkA7OwFn8ICY1u6xLHuznqmT'\n",
      "    )\n",
      "    db = pymongo.MongoClient().tweets\n",
      "    # this is where the fun actually starts :)\n",
      "    \n",
      "    for tweet in ts.search_tweets_iterable(tso):\n",
      "              processTweet(db, tweet)\n",
      "except TwitterSearchException as e: # take care of all those ugly errors if there are some,\n",
      "    print(e)"
     ],
     "language": "python",
     "metadata": {},
     "outputs": [],
     "prompt_number": 11
    },
    {
     "cell_type": "code",
     "collapsed": false,
     "input": [
      "def processTweet(db, tweet):\n",
      "    #print( '@%s tweeted: %s' % ( tweet['user']['screen_name'], tweet['text'] ) )\n",
      "    db.raw.insert(tweet)\n",
      "    location = tweet['user']['location']\n",
      "    m = re.search('.*(argentina|Argentina).*', location)\n",
      "    if m is not None:\n",
      "        db.raw_arg.insert(tweet)\n",
      "        if not (tweet['retweeted'] or tweet['text'].startswith('RT @')):\n",
      "            db.tweets_arg.insert(tweet)"
     ],
     "language": "python",
     "metadata": {},
     "outputs": [],
     "prompt_number": 10
    },
    {
     "cell_type": "code",
     "collapsed": false,
     "input": [
      "db.raw.count()"
     ],
     "language": "python",
     "metadata": {},
     "outputs": [
      {
       "metadata": {},
       "output_type": "pyout",
       "prompt_number": 12,
       "text": [
        "57010"
       ]
      }
     ],
     "prompt_number": 12
    },
    {
     "cell_type": "code",
     "collapsed": false,
     "input": [
      "db.raw_arg.count()"
     ],
     "language": "python",
     "metadata": {},
     "outputs": [
      {
       "metadata": {},
       "output_type": "pyout",
       "prompt_number": 6,
       "text": [
        "1360"
       ]
      }
     ],
     "prompt_number": 6
    },
    {
     "cell_type": "code",
     "collapsed": false,
     "input": [],
     "language": "python",
     "metadata": {},
     "outputs": []
    }
   ],
   "metadata": {}
  }
 ]
}