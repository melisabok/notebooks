{
 "cells": [
  {
   "cell_type": "code",
   "execution_count": 1,
   "metadata": {},
   "outputs": [],
   "source": [
    "import openreview\n",
    "import pandas as pd\n",
    "import requests\n",
    "import re\n",
    "from datetime import datetime\n",
    "import matplotlib\n",
    "import matplotlib.pyplot as plt"
   ]
  },
  {
   "cell_type": "code",
   "execution_count": 2,
   "metadata": {},
   "outputs": [],
   "source": [
    "%matplotlib inline"
   ]
  },
  {
   "cell_type": "code",
   "execution_count": 3,
   "metadata": {},
   "outputs": [],
   "source": [
    "client = openreview.Client(baseurl = 'https://openreview.net', username = 'OpenReview.net')"
   ]
  },
  {
   "cell_type": "code",
   "execution_count": 4,
   "metadata": {},
   "outputs": [],
   "source": [
    "invitations = [ i.id for i in client.get_invitations(regex = '.*/(Blind_|Full_)?[sS]ubmission$', expired = False)]\n",
    "valid_invitations = set()\n",
    "for i in invitations:\n",
    "    if 'TEST.cc' not in i and 'Withdraw_Submission' not in i:\n",
    "        venue = i.split('/-/')[0]\n",
    "        if venue + '/-/Blind_Submission' in invitations:\n",
    "            valid_invitations.add(venue + '/-/Blind_Submission')\n",
    "        else:\n",
    "            valid_invitations.add(i)"
   ]
  },
  {
   "cell_type": "code",
   "execution_count": 5,
   "metadata": {},
   "outputs": [
    {
     "data": {
      "text/plain": [
       "75"
      ]
     },
     "execution_count": 5,
     "metadata": {},
     "output_type": "execute_result"
    }
   ],
   "source": [
    "len(valid_invitations)"
   ]
  },
  {
   "cell_type": "code",
   "execution_count": 6,
   "metadata": {},
   "outputs": [
    {
     "name": "stdout",
     "output_type": "stream",
     "text": [
      "No submissions for: adai.ai/DAI/2019/Conference/-/Submission\n",
      "No submissions for: ICML.cc/2019/Workshop/AMTL/-/Submission\n",
      "No submissions for: gamesec-conf.org/GameSec/2019/Conference/-/Submission\n",
      "No submissions for: ICLR.cc/2013/-/submission\n",
      "No submissions for: swsa.semanticweb.org/ISWC/2019/Workshop/DeSemWeb/-/Submission\n",
      "No submissions for: ICML.cc/2019/Workshop/RL4RealLife/-/Submission\n",
      "No submissions for: aclweb.org/NAACL/2018/Preprint/-/Blind_Submission\n",
      "No submissions for: EMNLP/2019/Workshop/Summarization/-/Submission\n",
      "No submissions for: ICLR.cc/2014/-/submission\n",
      "No submissions for: icaps-conference.org/ICAPS/2019/Workshop/VRDIP/-/Submission\n",
      "No submissions for: icaps-conference.org/ICAPS/2019/Workshop/XIAP/-/Submission\n",
      "No submissions for: eswc-conferences.org/ESWC/2019/Workshop/KGB/-/Full_Submission\n",
      "No submissions for: ICML.cc/2019/Workshop/Deep_Phenomena/-/Submission\n",
      "No submissions for: ICLR.cc/2019/Workshops/DeepGenStruct/-/Blind_Submission\n"
     ]
    }
   ],
   "source": [
    "records = []\n",
    "for i in valid_invitations:\n",
    "    venue = i.split('/-/')[0]\n",
    "    notes = list(openreview.tools.iterget_notes(client, invitation = i, details='replyCount'))\n",
    "    if not notes:\n",
    "        print('No submissions for: ' + i)\n",
    "    for n in notes:\n",
    "        cdate = datetime.fromtimestamp(n.tcdate / 1000)\n",
    "        records.append([n.id, n.tcdate, cdate.year, cdate.month, cdate.day, i, venue, n.details['replyCount']])\n",
    "df = pd.DataFrame.from_records(records, columns = ['id', 'cdate', 'cyear', 'cmonth', 'cday', 'invitation', 'venue', 'reply_count'])"
   ]
  },
  {
   "cell_type": "markdown",
   "metadata": {},
   "source": [
    "## Submission list"
   ]
  },
  {
   "cell_type": "code",
   "execution_count": 7,
   "metadata": {},
   "outputs": [
    {
     "data": {
      "text/html": [
       "<div>\n",
       "<style scoped>\n",
       "    .dataframe tbody tr th:only-of-type {\n",
       "        vertical-align: middle;\n",
       "    }\n",
       "\n",
       "    .dataframe tbody tr th {\n",
       "        vertical-align: top;\n",
       "    }\n",
       "\n",
       "    .dataframe thead th {\n",
       "        text-align: right;\n",
       "    }\n",
       "</style>\n",
       "<table border=\"1\" class=\"dataframe\">\n",
       "  <thead>\n",
       "    <tr style=\"text-align: right;\">\n",
       "      <th></th>\n",
       "      <th>id</th>\n",
       "      <th>cdate</th>\n",
       "      <th>cyear</th>\n",
       "      <th>cmonth</th>\n",
       "      <th>cday</th>\n",
       "      <th>invitation</th>\n",
       "      <th>venue</th>\n",
       "      <th>reply_count</th>\n",
       "    </tr>\n",
       "  </thead>\n",
       "  <tbody>\n",
       "    <tr>\n",
       "      <th>0</th>\n",
       "      <td>H1Hp-q2s</td>\n",
       "      <td>1473188285457</td>\n",
       "      <td>2016</td>\n",
       "      <td>9</td>\n",
       "      <td>6</td>\n",
       "      <td>ECCV2016.org/BNMW/-/submission</td>\n",
       "      <td>ECCV2016.org/BNMW</td>\n",
       "      <td>2</td>\n",
       "    </tr>\n",
       "    <tr>\n",
       "      <th>1</th>\n",
       "      <td>H1q36jBj</td>\n",
       "      <td>1472736690691</td>\n",
       "      <td>2016</td>\n",
       "      <td>9</td>\n",
       "      <td>1</td>\n",
       "      <td>ECCV2016.org/BNMW/-/submission</td>\n",
       "      <td>ECCV2016.org/BNMW</td>\n",
       "      <td>1</td>\n",
       "    </tr>\n",
       "    <tr>\n",
       "      <th>2</th>\n",
       "      <td>SklVpqHi</td>\n",
       "      <td>1472732456334</td>\n",
       "      <td>2016</td>\n",
       "      <td>9</td>\n",
       "      <td>1</td>\n",
       "      <td>ECCV2016.org/BNMW/-/submission</td>\n",
       "      <td>ECCV2016.org/BNMW</td>\n",
       "      <td>4</td>\n",
       "    </tr>\n",
       "    <tr>\n",
       "      <th>3</th>\n",
       "      <td>Sy9g8Lrj</td>\n",
       "      <td>1472714226616</td>\n",
       "      <td>2016</td>\n",
       "      <td>9</td>\n",
       "      <td>1</td>\n",
       "      <td>ECCV2016.org/BNMW/-/submission</td>\n",
       "      <td>ECCV2016.org/BNMW</td>\n",
       "      <td>4</td>\n",
       "    </tr>\n",
       "    <tr>\n",
       "      <th>4</th>\n",
       "      <td>rkPOKkrj</td>\n",
       "      <td>1472686446908</td>\n",
       "      <td>2016</td>\n",
       "      <td>8</td>\n",
       "      <td>31</td>\n",
       "      <td>ECCV2016.org/BNMW/-/submission</td>\n",
       "      <td>ECCV2016.org/BNMW</td>\n",
       "      <td>3</td>\n",
       "    </tr>\n",
       "  </tbody>\n",
       "</table>\n",
       "</div>"
      ],
      "text/plain": [
       "         id          cdate  cyear  cmonth  cday  \\\n",
       "0  H1Hp-q2s  1473188285457   2016       9     6   \n",
       "1  H1q36jBj  1472736690691   2016       9     1   \n",
       "2  SklVpqHi  1472732456334   2016       9     1   \n",
       "3  Sy9g8Lrj  1472714226616   2016       9     1   \n",
       "4  rkPOKkrj  1472686446908   2016       8    31   \n",
       "\n",
       "                       invitation              venue  reply_count  \n",
       "0  ECCV2016.org/BNMW/-/submission  ECCV2016.org/BNMW            2  \n",
       "1  ECCV2016.org/BNMW/-/submission  ECCV2016.org/BNMW            1  \n",
       "2  ECCV2016.org/BNMW/-/submission  ECCV2016.org/BNMW            4  \n",
       "3  ECCV2016.org/BNMW/-/submission  ECCV2016.org/BNMW            4  \n",
       "4  ECCV2016.org/BNMW/-/submission  ECCV2016.org/BNMW            3  "
      ]
     },
     "execution_count": 7,
     "metadata": {},
     "output_type": "execute_result"
    }
   ],
   "source": [
    "df[:5]"
   ]
  },
  {
   "cell_type": "markdown",
   "metadata": {},
   "source": [
    "### Count of submissions per venue"
   ]
  },
  {
   "cell_type": "code",
   "execution_count": 8,
   "metadata": {},
   "outputs": [
    {
     "data": {
      "text/html": [
       "<div>\n",
       "<style scoped>\n",
       "    .dataframe tbody tr th:only-of-type {\n",
       "        vertical-align: middle;\n",
       "    }\n",
       "\n",
       "    .dataframe tbody tr th {\n",
       "        vertical-align: top;\n",
       "    }\n",
       "\n",
       "    .dataframe thead th {\n",
       "        text-align: right;\n",
       "    }\n",
       "</style>\n",
       "<table border=\"1\" class=\"dataframe\">\n",
       "  <thead>\n",
       "    <tr style=\"text-align: right;\">\n",
       "      <th></th>\n",
       "      <th>id</th>\n",
       "    </tr>\n",
       "    <tr>\n",
       "      <th>venue</th>\n",
       "      <th></th>\n",
       "    </tr>\n",
       "  </thead>\n",
       "  <tbody>\n",
       "    <tr>\n",
       "      <th>ICLR.cc/2019/Conference</th>\n",
       "      <td>1419</td>\n",
       "    </tr>\n",
       "    <tr>\n",
       "      <th>ICLR.cc/2018/Conference</th>\n",
       "      <td>911</td>\n",
       "    </tr>\n",
       "    <tr>\n",
       "      <th>ICLR.cc/2017/conference</th>\n",
       "      <td>490</td>\n",
       "    </tr>\n",
       "    <tr>\n",
       "      <th>auai.org/UAI/2019/Conference</th>\n",
       "      <td>370</td>\n",
       "    </tr>\n",
       "    <tr>\n",
       "      <th>learningtheory.org/COLT/2019/Conference</th>\n",
       "      <td>356</td>\n",
       "    </tr>\n",
       "    <tr>\n",
       "      <th>ICLR.cc/2018/Workshop</th>\n",
       "      <td>343</td>\n",
       "    </tr>\n",
       "    <tr>\n",
       "      <th>auai.org/UAI/2018</th>\n",
       "      <td>336</td>\n",
       "    </tr>\n",
       "    <tr>\n",
       "      <th>auai.org/UAI/2017</th>\n",
       "      <td>284</td>\n",
       "    </tr>\n",
       "    <tr>\n",
       "      <th>ICLR.cc/2017/workshop</th>\n",
       "      <td>158</td>\n",
       "    </tr>\n",
       "    <tr>\n",
       "      <th>ICLR.cc/2016/workshop</th>\n",
       "      <td>125</td>\n",
       "    </tr>\n",
       "    <tr>\n",
       "      <th>MIDL.io/2019/Conference</th>\n",
       "      <td>115</td>\n",
       "    </tr>\n",
       "    <tr>\n",
       "      <th>MIDL.amsterdam/2018/Conference</th>\n",
       "      <td>85</td>\n",
       "    </tr>\n",
       "    <tr>\n",
       "      <th>MIDL.amsterdam/2018/Abstract</th>\n",
       "      <td>77</td>\n",
       "    </tr>\n",
       "    <tr>\n",
       "      <th>ICLR.cc/2014/conference</th>\n",
       "      <td>69</td>\n",
       "    </tr>\n",
       "    <tr>\n",
       "      <th>NIPS.cc/2018/Workshop/IRASL</th>\n",
       "      <td>68</td>\n",
       "    </tr>\n",
       "    <tr>\n",
       "      <th>ICLR.cc/2019/Workshop/LLD</th>\n",
       "      <td>67</td>\n",
       "    </tr>\n",
       "    <tr>\n",
       "      <th>ICLR.cc/2013/conference</th>\n",
       "      <td>67</td>\n",
       "    </tr>\n",
       "    <tr>\n",
       "      <th>NIPS.cc/2018/Workshop/CDNNRIA</th>\n",
       "      <td>58</td>\n",
       "    </tr>\n",
       "    <tr>\n",
       "      <th>AKBC.ws/2019/Conference</th>\n",
       "      <td>51</td>\n",
       "    </tr>\n",
       "    <tr>\n",
       "      <th>ICLR.cc/2019/Workshop/DeepGenStruct</th>\n",
       "      <td>48</td>\n",
       "    </tr>\n",
       "    <tr>\n",
       "      <th>NIPS.cc/2018/Workshop/Spatiotemporal</th>\n",
       "      <td>48</td>\n",
       "    </tr>\n",
       "    <tr>\n",
       "      <th>OpenReview.net/Anonymous_Preprint</th>\n",
       "      <td>41</td>\n",
       "    </tr>\n",
       "    <tr>\n",
       "      <th>NIPS.cc/2018/Workshop/MLOSS</th>\n",
       "      <td>29</td>\n",
       "    </tr>\n",
       "    <tr>\n",
       "      <th>NIPS.cc/2018/Workshop/MLITS</th>\n",
       "      <td>25</td>\n",
       "    </tr>\n",
       "    <tr>\n",
       "      <th>AKBC.ws/2013</th>\n",
       "      <td>22</td>\n",
       "    </tr>\n",
       "    <tr>\n",
       "      <th>ICLR.cc/2014/workshop</th>\n",
       "      <td>19</td>\n",
       "    </tr>\n",
       "    <tr>\n",
       "      <th>ICML.cc/2013/Inferning</th>\n",
       "      <td>19</td>\n",
       "    </tr>\n",
       "    <tr>\n",
       "      <th>ICML.cc/2018/RML</th>\n",
       "      <td>18</td>\n",
       "    </tr>\n",
       "    <tr>\n",
       "      <th>ICML.cc/2017/WHI</th>\n",
       "      <td>16</td>\n",
       "    </tr>\n",
       "    <tr>\n",
       "      <th>NIPS.cc/2017/Workshop/Autodiff</th>\n",
       "      <td>16</td>\n",
       "    </tr>\n",
       "    <tr>\n",
       "      <th>...</th>\n",
       "      <td>...</td>\n",
       "    </tr>\n",
       "    <tr>\n",
       "      <th>icaps-conference.org/ICAPS/2019/Workshop/HSDIP</th>\n",
       "      <td>14</td>\n",
       "    </tr>\n",
       "    <tr>\n",
       "      <th>swsa.semanticweb.org/ISWC/2017/DeSemWeb</th>\n",
       "      <td>14</td>\n",
       "    </tr>\n",
       "    <tr>\n",
       "      <th>ECCV2016.org/BNMW</th>\n",
       "      <td>13</td>\n",
       "    </tr>\n",
       "    <tr>\n",
       "      <th>roboticsfoundation.org/RSS/2017/RCW_Workshop/-_Poster</th>\n",
       "      <td>12</td>\n",
       "    </tr>\n",
       "    <tr>\n",
       "      <th>ISMIR.net/2018/WoRMS</th>\n",
       "      <td>12</td>\n",
       "    </tr>\n",
       "    <tr>\n",
       "      <th>ICML.cc/2013/PeerReview</th>\n",
       "      <td>12</td>\n",
       "    </tr>\n",
       "    <tr>\n",
       "      <th>icaps-conference.org/ICAPS/2019/Workshop/SPARK</th>\n",
       "      <td>10</td>\n",
       "    </tr>\n",
       "    <tr>\n",
       "      <th>icaps-conference.org/ICAPS/2019/Workshop/XAIP</th>\n",
       "      <td>10</td>\n",
       "    </tr>\n",
       "    <tr>\n",
       "      <th>swsa.semanticweb.org/ISWC/2018/DeSemWeb</th>\n",
       "      <td>10</td>\n",
       "    </tr>\n",
       "    <tr>\n",
       "      <th>ICML.cc/2018/Workshop/NAMPI</th>\n",
       "      <td>9</td>\n",
       "    </tr>\n",
       "    <tr>\n",
       "      <th>informatik.uni-rostock.de/Informatik_Rostock/Ubiquitous_Computing/2017</th>\n",
       "      <td>9</td>\n",
       "    </tr>\n",
       "    <tr>\n",
       "      <th>cv-foundation.org/CVPR/2017/BNMW</th>\n",
       "      <td>8</td>\n",
       "    </tr>\n",
       "    <tr>\n",
       "      <th>ICML.cc/2018/ECA</th>\n",
       "      <td>8</td>\n",
       "    </tr>\n",
       "    <tr>\n",
       "      <th>ICML.cc/2017/RML</th>\n",
       "      <td>8</td>\n",
       "    </tr>\n",
       "    <tr>\n",
       "      <th>ICLR.cc/2019/Workshop/drlStructPred</th>\n",
       "      <td>8</td>\n",
       "    </tr>\n",
       "    <tr>\n",
       "      <th>ICLR.cc/2019/Workshop/RML</th>\n",
       "      <td>8</td>\n",
       "    </tr>\n",
       "    <tr>\n",
       "      <th>icaps-conference.org/ICAPS/2019/Workshop/Hierarchical_Planning</th>\n",
       "      <td>8</td>\n",
       "    </tr>\n",
       "    <tr>\n",
       "      <th>MIDL.io/2019/Conference/Abstract</th>\n",
       "      <td>7</td>\n",
       "    </tr>\n",
       "    <tr>\n",
       "      <th>eswc-conferences.org/ESWC/2019/Workshop/KGB</th>\n",
       "      <td>7</td>\n",
       "    </tr>\n",
       "    <tr>\n",
       "      <th>NIPS.cc/2016/workshop/MLITS</th>\n",
       "      <td>7</td>\n",
       "    </tr>\n",
       "    <tr>\n",
       "      <th>ICML.cc/2017/MLAV</th>\n",
       "      <td>7</td>\n",
       "    </tr>\n",
       "    <tr>\n",
       "      <th>IEEE.org/2018/ITSC</th>\n",
       "      <td>7</td>\n",
       "    </tr>\n",
       "    <tr>\n",
       "      <th>icaps-conference.org/ICAPS/2019/Workshop/KEPS</th>\n",
       "      <td>6</td>\n",
       "    </tr>\n",
       "    <tr>\n",
       "      <th>NIPS.cc/2016/workshop/NAMPI</th>\n",
       "      <td>5</td>\n",
       "    </tr>\n",
       "    <tr>\n",
       "      <th>ACM.org/SIGIR/Badging</th>\n",
       "      <td>4</td>\n",
       "    </tr>\n",
       "    <tr>\n",
       "      <th>machineintelligence.cc/MIC/2018/Abstract</th>\n",
       "      <td>4</td>\n",
       "    </tr>\n",
       "    <tr>\n",
       "      <th>icaps-conference.org/ICAPS/2019/Workshop/WIPC</th>\n",
       "      <td>4</td>\n",
       "    </tr>\n",
       "    <tr>\n",
       "      <th>roboticsfoundation.org/RSS/2017/RCW_Workshop/-_Proceedings</th>\n",
       "      <td>3</td>\n",
       "    </tr>\n",
       "    <tr>\n",
       "      <th>machineintelligence.cc/MIC/2018/Conference</th>\n",
       "      <td>2</td>\n",
       "    </tr>\n",
       "    <tr>\n",
       "      <th>vivoconference.org/VIVO/2019/Conference</th>\n",
       "      <td>1</td>\n",
       "    </tr>\n",
       "  </tbody>\n",
       "</table>\n",
       "<p>61 rows × 1 columns</p>\n",
       "</div>"
      ],
      "text/plain": [
       "                                                      id\n",
       "venue                                                   \n",
       "ICLR.cc/2019/Conference                             1419\n",
       "ICLR.cc/2018/Conference                              911\n",
       "ICLR.cc/2017/conference                              490\n",
       "auai.org/UAI/2019/Conference                         370\n",
       "learningtheory.org/COLT/2019/Conference              356\n",
       "ICLR.cc/2018/Workshop                                343\n",
       "auai.org/UAI/2018                                    336\n",
       "auai.org/UAI/2017                                    284\n",
       "ICLR.cc/2017/workshop                                158\n",
       "ICLR.cc/2016/workshop                                125\n",
       "MIDL.io/2019/Conference                              115\n",
       "MIDL.amsterdam/2018/Conference                        85\n",
       "MIDL.amsterdam/2018/Abstract                          77\n",
       "ICLR.cc/2014/conference                               69\n",
       "NIPS.cc/2018/Workshop/IRASL                           68\n",
       "ICLR.cc/2019/Workshop/LLD                             67\n",
       "ICLR.cc/2013/conference                               67\n",
       "NIPS.cc/2018/Workshop/CDNNRIA                         58\n",
       "AKBC.ws/2019/Conference                               51\n",
       "ICLR.cc/2019/Workshop/DeepGenStruct                   48\n",
       "NIPS.cc/2018/Workshop/Spatiotemporal                  48\n",
       "OpenReview.net/Anonymous_Preprint                     41\n",
       "NIPS.cc/2018/Workshop/MLOSS                           29\n",
       "NIPS.cc/2018/Workshop/MLITS                           25\n",
       "AKBC.ws/2013                                          22\n",
       "ICLR.cc/2014/workshop                                 19\n",
       "ICML.cc/2013/Inferning                                19\n",
       "ICML.cc/2018/RML                                      18\n",
       "ICML.cc/2017/WHI                                      16\n",
       "NIPS.cc/2017/Workshop/Autodiff                        16\n",
       "...                                                  ...\n",
       "icaps-conference.org/ICAPS/2019/Workshop/HSDIP        14\n",
       "swsa.semanticweb.org/ISWC/2017/DeSemWeb               14\n",
       "ECCV2016.org/BNMW                                     13\n",
       "roboticsfoundation.org/RSS/2017/RCW_Workshop/-_...    12\n",
       "ISMIR.net/2018/WoRMS                                  12\n",
       "ICML.cc/2013/PeerReview                               12\n",
       "icaps-conference.org/ICAPS/2019/Workshop/SPARK        10\n",
       "icaps-conference.org/ICAPS/2019/Workshop/XAIP         10\n",
       "swsa.semanticweb.org/ISWC/2018/DeSemWeb               10\n",
       "ICML.cc/2018/Workshop/NAMPI                            9\n",
       "informatik.uni-rostock.de/Informatik_Rostock/Ub...     9\n",
       "cv-foundation.org/CVPR/2017/BNMW                       8\n",
       "ICML.cc/2018/ECA                                       8\n",
       "ICML.cc/2017/RML                                       8\n",
       "ICLR.cc/2019/Workshop/drlStructPred                    8\n",
       "ICLR.cc/2019/Workshop/RML                              8\n",
       "icaps-conference.org/ICAPS/2019/Workshop/Hierar...     8\n",
       "MIDL.io/2019/Conference/Abstract                       7\n",
       "eswc-conferences.org/ESWC/2019/Workshop/KGB            7\n",
       "NIPS.cc/2016/workshop/MLITS                            7\n",
       "ICML.cc/2017/MLAV                                      7\n",
       "IEEE.org/2018/ITSC                                     7\n",
       "icaps-conference.org/ICAPS/2019/Workshop/KEPS          6\n",
       "NIPS.cc/2016/workshop/NAMPI                            5\n",
       "ACM.org/SIGIR/Badging                                  4\n",
       "machineintelligence.cc/MIC/2018/Abstract               4\n",
       "icaps-conference.org/ICAPS/2019/Workshop/WIPC          4\n",
       "roboticsfoundation.org/RSS/2017/RCW_Workshop/-_...     3\n",
       "machineintelligence.cc/MIC/2018/Conference             2\n",
       "vivoconference.org/VIVO/2019/Conference                1\n",
       "\n",
       "[61 rows x 1 columns]"
      ]
     },
     "execution_count": 8,
     "metadata": {},
     "output_type": "execute_result"
    }
   ],
   "source": [
    "df.groupby(['venue']).count().sort_values(by=['id'], ascending = False)[['id']]"
   ]
  },
  {
   "cell_type": "markdown",
   "metadata": {},
   "source": [
    "### Count of submissions per year"
   ]
  },
  {
   "cell_type": "code",
   "execution_count": 9,
   "metadata": {},
   "outputs": [
    {
     "data": {
      "text/html": [
       "<div>\n",
       "<style scoped>\n",
       "    .dataframe tbody tr th:only-of-type {\n",
       "        vertical-align: middle;\n",
       "    }\n",
       "\n",
       "    .dataframe tbody tr th {\n",
       "        vertical-align: top;\n",
       "    }\n",
       "\n",
       "    .dataframe thead th {\n",
       "        text-align: right;\n",
       "    }\n",
       "</style>\n",
       "<table border=\"1\" class=\"dataframe\">\n",
       "  <thead>\n",
       "    <tr style=\"text-align: right;\">\n",
       "      <th></th>\n",
       "      <th>id</th>\n",
       "    </tr>\n",
       "    <tr>\n",
       "      <th>cyear</th>\n",
       "      <th></th>\n",
       "    </tr>\n",
       "  </thead>\n",
       "  <tbody>\n",
       "    <tr>\n",
       "      <th>2018</th>\n",
       "      <td>2757</td>\n",
       "    </tr>\n",
       "    <tr>\n",
       "      <th>2017</th>\n",
       "      <td>1462</td>\n",
       "    </tr>\n",
       "    <tr>\n",
       "      <th>2019</th>\n",
       "      <td>936</td>\n",
       "    </tr>\n",
       "    <tr>\n",
       "      <th>2016</th>\n",
       "      <td>640</td>\n",
       "    </tr>\n",
       "    <tr>\n",
       "      <th>2013</th>\n",
       "      <td>207</td>\n",
       "    </tr>\n",
       "    <tr>\n",
       "      <th>2014</th>\n",
       "      <td>1</td>\n",
       "    </tr>\n",
       "  </tbody>\n",
       "</table>\n",
       "</div>"
      ],
      "text/plain": [
       "         id\n",
       "cyear      \n",
       "2018   2757\n",
       "2017   1462\n",
       "2019    936\n",
       "2016    640\n",
       "2013    207\n",
       "2014      1"
      ]
     },
     "execution_count": 9,
     "metadata": {},
     "output_type": "execute_result"
    }
   ],
   "source": [
    "df_by_year = df.groupby(['cyear']).count().sort_values(by=['id'], ascending = False)[['id']]\n",
    "df_by_year"
   ]
  },
  {
   "cell_type": "markdown",
   "metadata": {},
   "source": [
    "### Total of submissions"
   ]
  },
  {
   "cell_type": "code",
   "execution_count": 10,
   "metadata": {},
   "outputs": [
    {
     "data": {
      "text/plain": [
       "6003"
      ]
     },
     "execution_count": 10,
     "metadata": {},
     "output_type": "execute_result"
    }
   ],
   "source": [
    "df_by_year['id'].sum()"
   ]
  },
  {
   "cell_type": "code",
   "execution_count": 11,
   "metadata": {},
   "outputs": [
    {
     "data": {
      "text/plain": [
       "<matplotlib.axes._subplots.AxesSubplot at 0x117edf828>"
      ]
     },
     "execution_count": 11,
     "metadata": {},
     "output_type": "execute_result"
    },
    {
     "data": {
      "image/png": "[encoded data removed]",
      "text/plain": [
       "<Figure size 432x288 with 1 Axes>"
      ]
     },
     "metadata": {
      "needs_background": "light"
     },
     "output_type": "display_data"
    }
   ],
   "source": [
    "df_by_year.sort_values(by=['cyear']).plot.bar(title = 'Submissions per year', yticks = range(0, 3000, 200), grid = True)"
   ]
  },
  {
   "cell_type": "markdown",
   "metadata": {},
   "source": [
    "### Count of venues per year"
   ]
  },
  {
   "cell_type": "code",
   "execution_count": 12,
   "metadata": {},
   "outputs": [
    {
     "data": {
      "text/html": [
       "<div>\n",
       "<style scoped>\n",
       "    .dataframe tbody tr th:only-of-type {\n",
       "        vertical-align: middle;\n",
       "    }\n",
       "\n",
       "    .dataframe tbody tr th {\n",
       "        vertical-align: top;\n",
       "    }\n",
       "\n",
       "    .dataframe thead th {\n",
       "        text-align: right;\n",
       "    }\n",
       "</style>\n",
       "<table border=\"1\" class=\"dataframe\">\n",
       "  <thead>\n",
       "    <tr style=\"text-align: right;\">\n",
       "      <th></th>\n",
       "      <th>venue</th>\n",
       "    </tr>\n",
       "    <tr>\n",
       "      <th>cyear</th>\n",
       "      <th></th>\n",
       "    </tr>\n",
       "  </thead>\n",
       "  <tbody>\n",
       "    <tr>\n",
       "      <th>2013</th>\n",
       "      <td>6</td>\n",
       "    </tr>\n",
       "    <tr>\n",
       "      <th>2014</th>\n",
       "      <td>1</td>\n",
       "    </tr>\n",
       "    <tr>\n",
       "      <th>2016</th>\n",
       "      <td>5</td>\n",
       "    </tr>\n",
       "    <tr>\n",
       "      <th>2017</th>\n",
       "      <td>13</td>\n",
       "    </tr>\n",
       "    <tr>\n",
       "      <th>2018</th>\n",
       "      <td>22</td>\n",
       "    </tr>\n",
       "    <tr>\n",
       "      <th>2019</th>\n",
       "      <td>17</td>\n",
       "    </tr>\n",
       "  </tbody>\n",
       "</table>\n",
       "</div>"
      ],
      "text/plain": [
       "       venue\n",
       "cyear       \n",
       "2013       6\n",
       "2014       1\n",
       "2016       5\n",
       "2017      13\n",
       "2018      22\n",
       "2019      17"
      ]
     },
     "execution_count": 12,
     "metadata": {},
     "output_type": "execute_result"
    }
   ],
   "source": [
    "df_by_venue = df.groupby(['cyear']).agg({ 'venue': 'nunique'})\n",
    "df_by_venue"
   ]
  },
  {
   "cell_type": "markdown",
   "metadata": {},
   "source": [
    "### Total of venues with submissions"
   ]
  },
  {
   "cell_type": "code",
   "execution_count": 13,
   "metadata": {},
   "outputs": [
    {
     "data": {
      "text/plain": [
       "64"
      ]
     },
     "execution_count": 13,
     "metadata": {},
     "output_type": "execute_result"
    }
   ],
   "source": [
    "df_by_venue.venue.sum()"
   ]
  },
  {
   "cell_type": "code",
   "execution_count": 14,
   "metadata": {},
   "outputs": [
    {
     "data": {
      "text/plain": [
       "<matplotlib.axes._subplots.AxesSubplot at 0x11808a710>"
      ]
     },
     "execution_count": 14,
     "metadata": {},
     "output_type": "execute_result"
    },
    {
     "data": {
      "image/png": "[encoded data removed]",
      "text/plain": [
       "<Figure size 432x288 with 1 Axes>"
      ]
     },
     "metadata": {
      "needs_background": "light"
     },
     "output_type": "display_data"
    }
   ],
   "source": [
    "df_by_venue['venue'].plot.bar(title = 'Count of venues per year')"
   ]
  },
  {
   "cell_type": "markdown",
   "metadata": {},
   "source": [
    "## Profiles"
   ]
  },
  {
   "cell_type": "code",
   "execution_count": 15,
   "metadata": {},
   "outputs": [],
   "source": [
    "#### profiles\n",
    "profiles = [{ \"year\" : \"2017\", \"all\" : 7447, \"active\" : 4601 },\n",
    "{ \"year\" : \"2019\", \"all\" : 15620, \"active\" : 1490 },\n",
    "{ \"year\" : \"2018\", \"all\" : 8464, \"active\" : 6400 },\n",
    "{ \"year\" : \"2016\", \"all\" : 1773, \"active\" : 1748 }]"
   ]
  },
  {
   "cell_type": "code",
   "execution_count": 16,
   "metadata": {},
   "outputs": [],
   "source": [
    "profiles_df = pd.DataFrame.from_dict(profiles).sort_values(by=['year'])\n",
    "profiles_df.index = profiles_df[\"year\"]\n",
    "del profiles_df[\"year\"]"
   ]
  },
  {
   "cell_type": "markdown",
   "metadata": {},
   "source": [
    "### Count of created profiles per year"
   ]
  },
  {
   "cell_type": "code",
   "execution_count": 17,
   "metadata": {},
   "outputs": [
    {
     "data": {
      "text/html": [
       "<div>\n",
       "<style scoped>\n",
       "    .dataframe tbody tr th:only-of-type {\n",
       "        vertical-align: middle;\n",
       "    }\n",
       "\n",
       "    .dataframe tbody tr th {\n",
       "        vertical-align: top;\n",
       "    }\n",
       "\n",
       "    .dataframe thead th {\n",
       "        text-align: right;\n",
       "    }\n",
       "</style>\n",
       "<table border=\"1\" class=\"dataframe\">\n",
       "  <thead>\n",
       "    <tr style=\"text-align: right;\">\n",
       "      <th></th>\n",
       "      <th>active</th>\n",
       "      <th>all</th>\n",
       "    </tr>\n",
       "    <tr>\n",
       "      <th>year</th>\n",
       "      <th></th>\n",
       "      <th></th>\n",
       "    </tr>\n",
       "  </thead>\n",
       "  <tbody>\n",
       "    <tr>\n",
       "      <th>2016</th>\n",
       "      <td>1748</td>\n",
       "      <td>1773</td>\n",
       "    </tr>\n",
       "    <tr>\n",
       "      <th>2017</th>\n",
       "      <td>4601</td>\n",
       "      <td>7447</td>\n",
       "    </tr>\n",
       "    <tr>\n",
       "      <th>2018</th>\n",
       "      <td>6400</td>\n",
       "      <td>8464</td>\n",
       "    </tr>\n",
       "    <tr>\n",
       "      <th>2019</th>\n",
       "      <td>1490</td>\n",
       "      <td>15620</td>\n",
       "    </tr>\n",
       "  </tbody>\n",
       "</table>\n",
       "</div>"
      ],
      "text/plain": [
       "      active    all\n",
       "year               \n",
       "2016    1748   1773\n",
       "2017    4601   7447\n",
       "2018    6400   8464\n",
       "2019    1490  15620"
      ]
     },
     "execution_count": 17,
     "metadata": {},
     "output_type": "execute_result"
    }
   ],
   "source": [
    "profiles_df"
   ]
  },
  {
   "cell_type": "markdown",
   "metadata": {},
   "source": [
    "### Total of active profiles"
   ]
  },
  {
   "cell_type": "code",
   "execution_count": 18,
   "metadata": {},
   "outputs": [
    {
     "data": {
      "text/plain": [
       "14239"
      ]
     },
     "execution_count": 18,
     "metadata": {},
     "output_type": "execute_result"
    }
   ],
   "source": [
    "profiles_df['active'].sum()"
   ]
  },
  {
   "cell_type": "code",
   "execution_count": 19,
   "metadata": {},
   "outputs": [
    {
     "data": {
      "text/plain": [
       "<matplotlib.axes._subplots.AxesSubplot at 0x118c9db00>"
      ]
     },
     "execution_count": 19,
     "metadata": {},
     "output_type": "execute_result"
    },
    {
     "data": {
      "image/png": "[encoded data removed]",
      "text/plain": [
       "<Figure size 432x288 with 1 Axes>"
      ]
     },
     "metadata": {
      "needs_background": "light"
     },
     "output_type": "display_data"
    }
   ],
   "source": [
    "profiles_df.plot(kind = 'bar', title = 'Profiles created per year')"
   ]
  },
  {
   "cell_type": "markdown",
   "metadata": {},
   "source": [
    "## Forum replies"
   ]
  },
  {
   "cell_type": "code",
   "execution_count": 20,
   "metadata": {},
   "outputs": [
    {
     "data": {
      "image/png": "[encoded data removed]",
      "text/plain": [
       "<Figure size 1080x576 with 1 Axes>"
      ]
     },
     "metadata": {
      "needs_background": "light"
     },
     "output_type": "display_data"
    }
   ],
   "source": [
    "ax = df['reply_count'].plot(kind='hist', figsize=(15,8), bins = 30, title = 'Histogram of reply count per forum')\n",
    "plt.xticks(range(0, 85, 5))\n",
    "plt.show()"
   ]
  },
  {
   "cell_type": "code",
   "execution_count": 21,
   "metadata": {},
   "outputs": [
    {
     "data": {
      "text/plain": [
       "<matplotlib.axes._subplots.AxesSubplot at 0x118f6d550>"
      ]
     },
     "execution_count": 21,
     "metadata": {},
     "output_type": "execute_result"
    },
    {
     "data": {
      "image/png": "[encoded data removed]",
      "text/plain": [
       "<Figure size 1080x576 with 1 Axes>"
      ]
     },
     "metadata": {
      "needs_background": "light"
     },
     "output_type": "display_data"
    }
   ],
   "source": [
    "(df['reply_count'] > 0).astype(int).plot(kind='hist', figsize=(15,8), title = 'Count of forum with more than one reply or not')"
   ]
  },
  {
   "cell_type": "code",
   "execution_count": 22,
   "metadata": {},
   "outputs": [],
   "source": [
    "comments = list(openreview.tools.iterget_notes(client, invitation = '.*([cC]omment|[rR]eview)$'))"
   ]
  },
  {
   "cell_type": "code",
   "execution_count": 23,
   "metadata": {},
   "outputs": [],
   "source": [
    "comments_array = []\n",
    "for c in comments:\n",
    "    comments_array.append([c.id, c.forum, c.tcdate, datetime.fromtimestamp(c.tcdate / 1000)])"
   ]
  },
  {
   "cell_type": "markdown",
   "metadata": {},
   "source": [
    "### List of comments and reviews "
   ]
  },
  {
   "cell_type": "code",
   "execution_count": 24,
   "metadata": {},
   "outputs": [
    {
     "data": {
      "text/html": [
       "<div>\n",
       "<style scoped>\n",
       "    .dataframe tbody tr th:only-of-type {\n",
       "        vertical-align: middle;\n",
       "    }\n",
       "\n",
       "    .dataframe tbody tr th {\n",
       "        vertical-align: top;\n",
       "    }\n",
       "\n",
       "    .dataframe thead th {\n",
       "        text-align: right;\n",
       "    }\n",
       "</style>\n",
       "<table border=\"1\" class=\"dataframe\">\n",
       "  <thead>\n",
       "    <tr style=\"text-align: right;\">\n",
       "      <th></th>\n",
       "      <th>id</th>\n",
       "      <th>forum</th>\n",
       "      <th>tcdate</th>\n",
       "      <th>date</th>\n",
       "    </tr>\n",
       "  </thead>\n",
       "  <tbody>\n",
       "    <tr>\n",
       "      <th>0</th>\n",
       "      <td>HJgbO3PKFV</td>\n",
       "      <td>SyxjRu3mNE</td>\n",
       "      <td>1554771048725</td>\n",
       "      <td>2019-04-08 20:50:48.725</td>\n",
       "    </tr>\n",
       "    <tr>\n",
       "      <th>1</th>\n",
       "      <td>BkghocPtK4</td>\n",
       "      <td>BJeC5d2X4N</td>\n",
       "      <td>1554770596003</td>\n",
       "      <td>2019-04-08 20:43:16.003</td>\n",
       "    </tr>\n",
       "    <tr>\n",
       "      <th>2</th>\n",
       "      <td>ByeiU9vFYE</td>\n",
       "      <td>BJeC5d2X4N</td>\n",
       "      <td>1554770515076</td>\n",
       "      <td>2019-04-08 20:41:55.076</td>\n",
       "    </tr>\n",
       "    <tr>\n",
       "      <th>3</th>\n",
       "      <td>Syl_ZUDtKV</td>\n",
       "      <td>r1eDc_27EE</td>\n",
       "      <td>1554769407627</td>\n",
       "      <td>2019-04-08 20:23:27.627</td>\n",
       "    </tr>\n",
       "    <tr>\n",
       "      <th>4</th>\n",
       "      <td>S1eA24wKt4</td>\n",
       "      <td>BJeC5d2X4N</td>\n",
       "      <td>1554769078410</td>\n",
       "      <td>2019-04-08 20:17:58.410</td>\n",
       "    </tr>\n",
       "  </tbody>\n",
       "</table>\n",
       "</div>"
      ],
      "text/plain": [
       "           id       forum         tcdate                    date\n",
       "0  HJgbO3PKFV  SyxjRu3mNE  1554771048725 2019-04-08 20:50:48.725\n",
       "1  BkghocPtK4  BJeC5d2X4N  1554770596003 2019-04-08 20:43:16.003\n",
       "2  ByeiU9vFYE  BJeC5d2X4N  1554770515076 2019-04-08 20:41:55.076\n",
       "3  Syl_ZUDtKV  r1eDc_27EE  1554769407627 2019-04-08 20:23:27.627\n",
       "4  S1eA24wKt4  BJeC5d2X4N  1554769078410 2019-04-08 20:17:58.410"
      ]
     },
     "execution_count": 24,
     "metadata": {},
     "output_type": "execute_result"
    }
   ],
   "source": [
    "comments_df = pd.DataFrame.from_records(comments_array, columns = ['id', 'forum', 'tcdate', 'date'])\n",
    "comments_df[:5]"
   ]
  },
  {
   "cell_type": "markdown",
   "metadata": {},
   "source": [
    "### Ranking of comments/reviews per month/year"
   ]
  },
  {
   "cell_type": "code",
   "execution_count": 25,
   "metadata": {},
   "outputs": [
    {
     "data": {
      "text/html": [
       "<div>\n",
       "<style scoped>\n",
       "    .dataframe tbody tr th:only-of-type {\n",
       "        vertical-align: middle;\n",
       "    }\n",
       "\n",
       "    .dataframe tbody tr th {\n",
       "        vertical-align: top;\n",
       "    }\n",
       "\n",
       "    .dataframe thead th {\n",
       "        text-align: right;\n",
       "    }\n",
       "</style>\n",
       "<table border=\"1\" class=\"dataframe\">\n",
       "  <thead>\n",
       "    <tr style=\"text-align: right;\">\n",
       "      <th></th>\n",
       "      <th></th>\n",
       "      <th>count</th>\n",
       "    </tr>\n",
       "    <tr>\n",
       "      <th>date</th>\n",
       "      <th>date</th>\n",
       "      <th></th>\n",
       "    </tr>\n",
       "  </thead>\n",
       "  <tbody>\n",
       "    <tr>\n",
       "      <th rowspan=\"3\" valign=\"top\">2018</th>\n",
       "      <th>11</th>\n",
       "      <td>15188</td>\n",
       "    </tr>\n",
       "    <tr>\n",
       "      <th>1</th>\n",
       "      <td>4196</td>\n",
       "    </tr>\n",
       "    <tr>\n",
       "      <th>12</th>\n",
       "      <td>4181</td>\n",
       "    </tr>\n",
       "    <tr>\n",
       "      <th>2016</th>\n",
       "      <th>12</th>\n",
       "      <td>3865</td>\n",
       "    </tr>\n",
       "    <tr>\n",
       "      <th rowspan=\"3\" valign=\"top\">2017</th>\n",
       "      <th>11</th>\n",
       "      <td>3431</td>\n",
       "    </tr>\n",
       "    <tr>\n",
       "      <th>12</th>\n",
       "      <td>2912</td>\n",
       "    </tr>\n",
       "    <tr>\n",
       "      <th>5</th>\n",
       "      <td>2892</td>\n",
       "    </tr>\n",
       "    <tr>\n",
       "      <th>2018</th>\n",
       "      <th>10</th>\n",
       "      <td>2710</td>\n",
       "    </tr>\n",
       "    <tr>\n",
       "      <th>2017</th>\n",
       "      <th>1</th>\n",
       "      <td>2330</td>\n",
       "    </tr>\n",
       "    <tr>\n",
       "      <th>2018</th>\n",
       "      <th>4</th>\n",
       "      <td>2114</td>\n",
       "    </tr>\n",
       "  </tbody>\n",
       "</table>\n",
       "</div>"
      ],
      "text/plain": [
       "           count\n",
       "date date       \n",
       "2018 11    15188\n",
       "     1      4196\n",
       "     12     4181\n",
       "2016 12     3865\n",
       "2017 11     3431\n",
       "     12     2912\n",
       "     5      2892\n",
       "2018 10     2710\n",
       "2017 1      2330\n",
       "2018 4      2114"
      ]
     },
     "execution_count": 25,
     "metadata": {},
     "output_type": "execute_result"
    }
   ],
   "source": [
    "group_by_date_df = comments_df.groupby([comments_df.date.dt.year, comments_df.date.dt.month]).count()\n",
    "del group_by_date_df['forum']\n",
    "del group_by_date_df['tcdate']\n",
    "del group_by_date_df['date']\n",
    "group_by_date_df.rename(index=str, columns={\"id\": \"count\"}, inplace = True)\n",
    "group_by_date_df.sort_values(by=['count'], ascending = False)[:10]"
   ]
  },
  {
   "cell_type": "code",
   "execution_count": 26,
   "metadata": {},
   "outputs": [
    {
     "data": {
      "text/plain": [
       "<matplotlib.axes._subplots.AxesSubplot at 0x1248c6518>"
      ]
     },
     "execution_count": 26,
     "metadata": {},
     "output_type": "execute_result"
    },
    {
     "data": {
      "image/png": "[encoded data removed]",
      "text/plain": [
       "<Figure size 1080x576 with 1 Axes>"
      ]
     },
     "metadata": {
      "needs_background": "light"
     },
     "output_type": "display_data"
    }
   ],
   "source": [
    "group_by_date_df.plot(figsize=(15,8), kind = 'bar', title = 'Count of comments and reviews per month, year')"
   ]
  },
  {
   "cell_type": "markdown",
   "metadata": {},
   "source": [
    "## ICLR Submissions"
   ]
  },
  {
   "cell_type": "code",
   "execution_count": 27,
   "metadata": {},
   "outputs": [],
   "source": [
    "notes = list(openreview.tools.iterget_notes(client, invitation = 'ICLR.cc/201.*/[cC]onference/-/(Withdrawn_)?[sS]ubmission', trash = True))\n",
    "records = []\n",
    "for n in notes:\n",
    "    cdate = datetime.fromtimestamp(n.tcdate / 1000)\n",
    "    venue = n.invitation.split('/-/')[0]\n",
    "    records.append([n.id, n.tcdate, cdate, cdate.year, cdate.month, cdate.day, venue])\n",
    "iclr_df = pd.DataFrame.from_records(records, columns = ['id', 'cdate', 'date', 'cyear', 'cmonth', 'cday', 'venue'])"
   ]
  },
  {
   "cell_type": "markdown",
   "metadata": {},
   "source": [
    "### Total of ICLR conference submissions"
   ]
  },
  {
   "cell_type": "code",
   "execution_count": 28,
   "metadata": {},
   "outputs": [
    {
     "data": {
      "text/plain": [
       "3831"
      ]
     },
     "execution_count": 28,
     "metadata": {},
     "output_type": "execute_result"
    }
   ],
   "source": [
    "len(iclr_df)"
   ]
  },
  {
   "cell_type": "code",
   "execution_count": 29,
   "metadata": {},
   "outputs": [
    {
     "data": {
      "text/plain": [
       "cyear\n",
       "2013     135\n",
       "2014       1\n",
       "2016     611\n",
       "2017    1216\n",
       "2018    1868\n",
       "Name: id, dtype: int64"
      ]
     },
     "execution_count": 29,
     "metadata": {},
     "output_type": "execute_result"
    }
   ],
   "source": [
    "iclr_df.groupby('cyear').id.count()"
   ]
  },
  {
   "cell_type": "markdown",
   "metadata": {},
   "source": [
    "### Distribution of ICLR 2019 submissions per day"
   ]
  },
  {
   "cell_type": "code",
   "execution_count": 30,
   "metadata": {},
   "outputs": [
    {
     "data": {
      "text/plain": [
       "date\n",
       "13       2\n",
       "14      12\n",
       "15       5\n",
       "16       5\n",
       "17       6\n",
       "18       9\n",
       "19      13\n",
       "20      12\n",
       "21      15\n",
       "22      15\n",
       "23      16\n",
       "24      37\n",
       "25      76\n",
       "26     213\n",
       "27    1384\n",
       "Name: id, dtype: int64"
      ]
     },
     "execution_count": 30,
     "metadata": {},
     "output_type": "execute_result"
    }
   ],
   "source": [
    "iclr_df[iclr_df['venue'] == 'ICLR.cc/2019/Conference'].groupby([iclr_df.date.dt.day]).id.count()"
   ]
  },
  {
   "cell_type": "code",
   "execution_count": 31,
   "metadata": {},
   "outputs": [
    {
     "data": {
      "text/plain": [
       "<matplotlib.axes._subplots.AxesSubplot at 0x1204dd0f0>"
      ]
     },
     "execution_count": 31,
     "metadata": {},
     "output_type": "execute_result"
    },
    {
     "data": {
      "image/png": "[encoded data removed]",
      "text/plain": [
       "<Figure size 432x288 with 1 Axes>"
      ]
     },
     "metadata": {
      "needs_background": "light"
     },
     "output_type": "display_data"
    }
   ],
   "source": [
    "iclr_df[iclr_df['venue'] == 'ICLR.cc/2019/Conference'].groupby([iclr_df.date.dt.day]).id.count().plot(title = 'ICLR 2019 - Count of submissions per day')"
   ]
  },
  {
   "cell_type": "markdown",
   "metadata": {},
   "source": [
    "### Distribution of ICLR 2019 submissions by hour during the last the day of the submissions"
   ]
  },
  {
   "cell_type": "code",
   "execution_count": 32,
   "metadata": {},
   "outputs": [
    {
     "data": {
      "text/plain": [
       "date\n",
       "0      18\n",
       "1      21\n",
       "2      22\n",
       "3      24\n",
       "4      16\n",
       "5      19\n",
       "6      21\n",
       "7      20\n",
       "8      28\n",
       "9      25\n",
       "10     52\n",
       "11     55\n",
       "12     57\n",
       "13     85\n",
       "14     91\n",
       "15    110\n",
       "16    171\n",
       "17    369\n",
       "18    180\n",
       "Name: id, dtype: int64"
      ]
     },
     "execution_count": 32,
     "metadata": {},
     "output_type": "execute_result"
    }
   ],
   "source": [
    "last_iclr_2019 = iclr_df[iclr_df['cday'] == 27]\n",
    "last_iclr_2019 = last_iclr_2019[last_iclr_2019['venue'] == 'ICLR.cc/2019/Conference']\n",
    "last_iclr_2019 = last_iclr_2019.groupby([last_iclr_2019.date.dt.hour]).id.count()\n",
    "last_iclr_2019"
   ]
  },
  {
   "cell_type": "code",
   "execution_count": 33,
   "metadata": {},
   "outputs": [
    {
     "data": {
      "text/plain": [
       "<matplotlib.axes._subplots.AxesSubplot at 0x124fa6d30>"
      ]
     },
     "execution_count": 33,
     "metadata": {},
     "output_type": "execute_result"
    },
    {
     "data": {
      "image/png": "[encoded data removed]",
      "text/plain": [
       "<Figure size 432x288 with 1 Axes>"
      ]
     },
     "metadata": {
      "needs_background": "light"
     },
     "output_type": "display_data"
    }
   ],
   "source": [
    "last_iclr_2019.plot(title = 'ICLR 2019 - Count of submissions during the last day')"
   ]
  },
  {
   "cell_type": "markdown",
   "metadata": {},
   "source": [
    "### Distribution of ICLR 2018 submissions per day"
   ]
  },
  {
   "cell_type": "code",
   "execution_count": 34,
   "metadata": {},
   "outputs": [
    {
     "data": {
      "text/plain": [
       "date\n",
       "1       4\n",
       "2       8\n",
       "3       7\n",
       "4       5\n",
       "5       6\n",
       "7       3\n",
       "9       4\n",
       "10      3\n",
       "11      5\n",
       "12      4\n",
       "13      4\n",
       "14      3\n",
       "15      3\n",
       "16      1\n",
       "17      4\n",
       "18      6\n",
       "19      9\n",
       "20     13\n",
       "21      5\n",
       "22      9\n",
       "23     15\n",
       "24     22\n",
       "25     33\n",
       "26    126\n",
       "27    944\n",
       "28      7\n",
       "29      6\n",
       "30      2\n",
       "31      3\n",
       "Name: id, dtype: int64"
      ]
     },
     "execution_count": 34,
     "metadata": {},
     "output_type": "execute_result"
    }
   ],
   "source": [
    "iclr_df[iclr_df['venue'] == 'ICLR.cc/2018/Conference'].groupby([iclr_df.date.dt.day]).id.count()"
   ]
  },
  {
   "cell_type": "code",
   "execution_count": 35,
   "metadata": {},
   "outputs": [
    {
     "data": {
      "text/plain": [
       "<matplotlib.axes._subplots.AxesSubplot at 0x125004898>"
      ]
     },
     "execution_count": 35,
     "metadata": {},
     "output_type": "execute_result"
    },
    {
     "data": {
      "image/png": "[encoded data removed]",
      "text/plain": [
       "<Figure size 432x288 with 1 Axes>"
      ]
     },
     "metadata": {
      "needs_background": "light"
     },
     "output_type": "display_data"
    }
   ],
   "source": [
    "iclr_df[iclr_df['venue'] == 'ICLR.cc/2018/Conference'].groupby([iclr_df.date.dt.day]).id.count().plot(title = 'ICLR 2018 - Count of submissions per day')"
   ]
  },
  {
   "cell_type": "markdown",
   "metadata": {},
   "source": [
    "### Distribution of ICLR 2018 submissions by hour during the last the day of the submissions"
   ]
  },
  {
   "cell_type": "code",
   "execution_count": 36,
   "metadata": {},
   "outputs": [
    {
     "data": {
      "text/plain": [
       "date\n",
       "0      12\n",
       "1      17\n",
       "2      13\n",
       "3      18\n",
       "4      16\n",
       "5      26\n",
       "6      12\n",
       "7      17\n",
       "8      13\n",
       "9      25\n",
       "10     21\n",
       "11     32\n",
       "12     27\n",
       "13     94\n",
       "14     83\n",
       "15    110\n",
       "16    295\n",
       "17    107\n",
       "18      6\n",
       "Name: id, dtype: int64"
      ]
     },
     "execution_count": 36,
     "metadata": {},
     "output_type": "execute_result"
    }
   ],
   "source": [
    "last_iclr_2018 = iclr_df[iclr_df['cday'] == 27]\n",
    "last_iclr_2018 = last_iclr_2018[last_iclr_2018['venue'] == 'ICLR.cc/2018/Conference']\n",
    "last_iclr_2018 = last_iclr_2018.groupby([last_iclr_2018.date.dt.hour]).id.count()\n",
    "last_iclr_2018"
   ]
  },
  {
   "cell_type": "code",
   "execution_count": 37,
   "metadata": {},
   "outputs": [
    {
     "data": {
      "text/plain": [
       "<matplotlib.axes._subplots.AxesSubplot at 0x125064b38>"
      ]
     },
     "execution_count": 37,
     "metadata": {},
     "output_type": "execute_result"
    },
    {
     "data": {
      "image/png": "[encoded data removed]",
      "text/plain": [
       "<Figure size 432x288 with 1 Axes>"
      ]
     },
     "metadata": {
      "needs_background": "light"
     },
     "output_type": "display_data"
    }
   ],
   "source": [
    "last_iclr_2018.plot(title = 'ICLR 2018 - Count of submissions during the last day')"
   ]
  },
  {
   "cell_type": "markdown",
   "metadata": {},
   "source": [
    "### Distribution of ICLR 2017 submissions by hour during the last the day of the submissions"
   ]
  },
  {
   "cell_type": "code",
   "execution_count": 38,
   "metadata": {},
   "outputs": [
    {
     "data": {
      "text/plain": [
       "date  date\n",
       "10    16        1\n",
       "      17        1\n",
       "      18        2\n",
       "      19        1\n",
       "      21        1\n",
       "      25        1\n",
       "      27        1\n",
       "      28        1\n",
       "      29        3\n",
       "      30        3\n",
       "      31       12\n",
       "11    1        13\n",
       "      2        15\n",
       "      3        56\n",
       "      4       435\n",
       "      5        65\n",
       "Name: id, dtype: int64"
      ]
     },
     "execution_count": 38,
     "metadata": {},
     "output_type": "execute_result"
    }
   ],
   "source": [
    "iclr_df[iclr_df['venue'] == 'ICLR.cc/2017/conference'].groupby([iclr_df.date.dt.month, iclr_df.date.dt.day]).id.count()"
   ]
  },
  {
   "cell_type": "code",
   "execution_count": 39,
   "metadata": {},
   "outputs": [
    {
     "data": {
      "text/plain": [
       "date\n",
       "0      5\n",
       "1      7\n",
       "2     11\n",
       "3     12\n",
       "4      4\n",
       "5      5\n",
       "6      6\n",
       "7      2\n",
       "8      6\n",
       "9      2\n",
       "10    18\n",
       "11    13\n",
       "12    25\n",
       "13    42\n",
       "14    47\n",
       "15    92\n",
       "16    49\n",
       "17    21\n",
       "18    52\n",
       "19     4\n",
       "20     1\n",
       "21     5\n",
       "22     4\n",
       "23     2\n",
       "Name: id, dtype: int64"
      ]
     },
     "execution_count": 39,
     "metadata": {},
     "output_type": "execute_result"
    }
   ],
   "source": [
    "last_iclr_2017 = iclr_df[iclr_df['cday'] == 4]\n",
    "last_iclr_2017 = last_iclr_2017[last_iclr_2017['venue'] == 'ICLR.cc/2017/conference']\n",
    "last_iclr_2017 = last_iclr_2017.groupby([last_iclr_2017.date.dt.hour]).id.count()\n",
    "last_iclr_2017"
   ]
  },
  {
   "cell_type": "code",
   "execution_count": 40,
   "metadata": {},
   "outputs": [
    {
     "data": {
      "text/plain": [
       "<matplotlib.axes._subplots.AxesSubplot at 0x125080a58>"
      ]
     },
     "execution_count": 40,
     "metadata": {},
     "output_type": "execute_result"
    },
    {
     "data": {
      "image/png": "[encoded data removed]",
      "text/plain": [
       "<Figure size 432x288 with 1 Axes>"
      ]
     },
     "metadata": {
      "needs_background": "light"
     },
     "output_type": "display_data"
    }
   ],
   "source": [
    "last_iclr_2017.plot(title = 'ICLR 2017 - Count of submissions per day')"
   ]
  },
  {
   "cell_type": "code",
   "execution_count": 41,
   "metadata": {},
   "outputs": [
    {
     "data": {
      "text/plain": [
       "<matplotlib.axes._subplots.AxesSubplot at 0x12511c9b0>"
      ]
     },
     "execution_count": 41,
     "metadata": {},
     "output_type": "execute_result"
    },
    {
     "data": {
      "image/png": "[encoded data removed]",
      "text/plain": [
       "<Figure size 432x288 with 1 Axes>"
      ]
     },
     "metadata": {
      "needs_background": "light"
     },
     "output_type": "display_data"
    }
   ],
   "source": [
    "last_iclr_2017.plot(label = '2017', legend = True)\n",
    "last_iclr_2018.plot(label = '2018', legend = True)\n",
    "last_iclr_2019.plot(label = '2019', legend = True)"
   ]
  },
  {
   "cell_type": "code",
   "execution_count": null,
   "metadata": {},
   "outputs": [],
   "source": []
  }
 ],
 "metadata": {
  "kernelspec": {
   "display_name": "Python 3",
   "language": "python",
   "name": "python3"
  },
  "language_info": {
   "codemirror_mode": {
    "name": "ipython",
    "version": 3
   },
   "file_extension": ".py",
   "mimetype": "text/x-python",
   "name": "python",
   "nbconvert_exporter": "python",
   "pygments_lexer": "ipython3",
   "version": "3.7.2"
  }
 },
 "nbformat": 4,
 "nbformat_minor": 2
}
